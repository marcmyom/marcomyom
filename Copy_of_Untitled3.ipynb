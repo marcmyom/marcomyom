{
  "nbformat": 4,
  "nbformat_minor": 0,
  "metadata": {
    "colab": {
      "provenance": [],
      "authorship_tag": "ABX9TyM/8RFSMRHOCEZl+WLYA5Pp",
      "include_colab_link": true
    },
    "kernelspec": {
      "name": "python3",
      "display_name": "Python 3"
    },
    "language_info": {
      "name": "python"
    }
  },
  "cells": [
    {
      "cell_type": "markdown",
      "metadata": {
        "id": "view-in-github",
        "colab_type": "text"
      },
      "source": [
        "<a href=\"https://colab.research.google.com/github/marcmyom/marcomyom/blob/master/Copy_of_Untitled3.ipynb\" target=\"_parent\"><img src=\"https://colab.research.google.com/assets/colab-badge.svg\" alt=\"Open In Colab\"/></a>"
      ]
    },
    {
      "cell_type": "markdown",
      "source": [
        "We start by importing the Python libraries which will be needed.\n",
        "They include:\n",
        "pandas\n",
        "Purpose: A powerful library for data manipulation and analysis.\n",
        "numpy\n",
        "Purpose: Fundamental package for numerical computing with Python.\n",
        "matplotlib\n",
        "Purpose: A comprehensive library for creating static, animated, and interactive visualizations in Python.\n",
        "seaborn\n",
        "Purpose: A data visualization library based on matplotlib, offering a high-level interface for drawing attractive and informative statistical graphics.\n",
        "sqlite3\n",
        "Purpose: A lightweight, disk-based database that doesn’t require a separate server process."
      ],
      "metadata": {
        "id": "TIDY-IHrrDDZ"
      }
    },
    {
      "cell_type": "code",
      "source": [
        "# importing libraries\n",
        "import sqlite3\n",
        "import pandas as pd\n",
        "import numpy as np\n",
        "import matplotlib.pyplot as plt\n",
        "import seaborn as sns"
      ],
      "metadata": {
        "id": "beTSngwqrCax"
      },
      "execution_count": null,
      "outputs": []
    },
    {
      "cell_type": "markdown",
      "source": [
        "**Reading and Understanding the Data**\n",
        "Firstly, the Airbnb datasets are loaded into Google Colab.\n",
        "This is followed by having a glimpse of the first few rows,\n",
        "shape and column names of the datasets."
      ],
      "metadata": {
        "id": "qx2kNbDwozuR"
      }
    },
    {
      "cell_type": "code",
      "source": [
        "import pandas as pd\n",
        "\n",
        "# Load the Airbnb 1 dataset\n",
        "airbnb_data = pd.read_csv('airbnb.csv')\n",
        "# Load the Airbnb 2 dataset\n",
        "airbnb_data = pd.read_csv('airbnb.csv')\n",
        "# Display the first few rows of the dataset\n",
        "print(\"First few rows of the dataset:\")\n",
        "print(airbnb_data.head())\n",
        "\n",
        "# Display the shape of the dataset\n",
        "print(\"\\nShape of the dataset:\")\n",
        "print(airbnb_data.shape)\n",
        "\n",
        "# Display the column names\n",
        "print(\"\\nColumn names:\")\n",
        "print(airbnb_data.columns)\n",
        "\n",
        "# Assuming you have another dataset to merge with, load it\n",
        "# For example, let's say the second dataset is called 'other_data.xlsx'\n",
        "# other_data = pd.read_excel('other_data.xlsx')\n",
        "\n",
        "# Merge the two datasets (adjust the 'on' parameter as needed)\n",
        "# merged_data = pd.merge(airbnb_data, other_data, on='common_column_name', how='inner')\n",
        "\n",
        "# Provide a summary of the dataset\n",
        "print(\"\\nSummary of the dataset:\")\n",
        "summary = airbnb_data.describe(include='all')\n",
        "print(summary)\n",
        "\n",
        "# Check for data types, unique values, and missing values\n",
        "print(\"\\nData types:\")\n",
        "print(airbnb_data.dtypes)\n",
        "\n",
        "print(\"\\nUnique values:\")\n",
        "print(airbnb_data.nunique())\n",
        "\n",
        "print(\"\\nMissing values:\")\n",
        "print(airbnb_data.isnull().sum())"
      ],
      "metadata": {
        "id": "Uug1EoHxo2jI"
      },
      "execution_count": null,
      "outputs": []
    }
  ]
}